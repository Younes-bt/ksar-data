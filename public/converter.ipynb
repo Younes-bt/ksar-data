{
 "cells": [
  {
   "cell_type": "code",
   "execution_count": 1,
   "id": "3460bf78",
   "metadata": {},
   "outputs": [],
   "source": [
    "import pandas as pd"
   ]
  },
  {
   "cell_type": "code",
   "execution_count": 2,
   "id": "4585b53b",
   "metadata": {},
   "outputs": [],
   "source": [
    "df = pd.read_json('votings.json')"
   ]
  },
  {
   "cell_type": "code",
   "execution_count": 3,
   "id": "11adfdce",
   "metadata": {},
   "outputs": [
    {
     "data": {
      "text/html": [
       "<div>\n",
       "<style scoped>\n",
       "    .dataframe tbody tr th:only-of-type {\n",
       "        vertical-align: middle;\n",
       "    }\n",
       "\n",
       "    .dataframe tbody tr th {\n",
       "        vertical-align: top;\n",
       "    }\n",
       "\n",
       "    .dataframe thead th {\n",
       "        text-align: right;\n",
       "    }\n",
       "</style>\n",
       "<table border=\"1\" class=\"dataframe\">\n",
       "  <thead>\n",
       "    <tr style=\"text-align: right;\">\n",
       "      <th></th>\n",
       "      <th>date</th>\n",
       "      <th>decision_number</th>\n",
       "      <th>title</th>\n",
       "      <th>voting</th>\n",
       "      <th>attendees</th>\n",
       "      <th>abstained_members</th>\n",
       "      <th>refused_members</th>\n",
       "    </tr>\n",
       "  </thead>\n",
       "  <tbody>\n",
       "    <tr>\n",
       "      <th>0</th>\n",
       "      <td>08 نونبر 2021</td>\n",
       "      <td>1565/03</td>\n",
       "      <td>النقطة المتعلقة بتعيين ممثل الجماعة ونائبه في ...</td>\n",
       "      <td>{'present_members': 22, 'expressed_votes': 21,...</td>\n",
       "      <td>[عبد الله المنصوري, سعيد القزدار, حسن صيكوك, م...</td>\n",
       "      <td>[أسماء البكوري]</td>\n",
       "      <td>[]</td>\n",
       "    </tr>\n",
       "    <tr>\n",
       "      <th>1</th>\n",
       "      <td>08 نونبر 2021</td>\n",
       "      <td>1566/04</td>\n",
       "      <td>النقطة المتعلقة بتعيين ممثل الجماعة ونائبه في ...</td>\n",
       "      <td>{'present_members': 22, 'expressed_votes': 21,...</td>\n",
       "      <td>[عبد الله المنصوري, سعيد القزدار, حسن صيكوك, م...</td>\n",
       "      <td>[أسماء البكوري]</td>\n",
       "      <td>[]</td>\n",
       "    </tr>\n",
       "    <tr>\n",
       "      <th>2</th>\n",
       "      <td>08 نونبر 2021</td>\n",
       "      <td>1567/05</td>\n",
       "      <td>النقطة المتعلقة بالدراسة والمصادقة على اتفاقية...</td>\n",
       "      <td>{'present_members': 21, 'expressed_votes': 20,...</td>\n",
       "      <td>[عبد الله المنصوري, سعيد القزدار, حسن صيكوك, م...</td>\n",
       "      <td>[أسماء البكوري]</td>\n",
       "      <td>[]</td>\n",
       "    </tr>\n",
       "    <tr>\n",
       "      <th>3</th>\n",
       "      <td>08 نونبر 2021</td>\n",
       "      <td>1568/06</td>\n",
       "      <td>النقطة المتعلقة بالدراسة والمصادقة على اتفاقية...</td>\n",
       "      <td>{'present_members': 24, 'expressed_votes': 23,...</td>\n",
       "      <td>[عبد الله المنصوري, سعيد القزدار, حسن صيكوك, م...</td>\n",
       "      <td>[أسماء البكوري]</td>\n",
       "      <td>[]</td>\n",
       "    </tr>\n",
       "    <tr>\n",
       "      <th>4</th>\n",
       "      <td>11 نونبر 2021</td>\n",
       "      <td>1569/07</td>\n",
       "      <td>النقطة المتعلقة بتعيين أربعة مناديب للجماعة لد...</td>\n",
       "      <td>{'present_members': 27, 'expressed_votes': 22,...</td>\n",
       "      <td>[محمد السيمو, عبد الله المنصوري, سعيد القزدار,...</td>\n",
       "      <td>[حسن الحسناوي, امل طريبق, خالد المودن, أسماء ا...</td>\n",
       "      <td>[]</td>\n",
       "    </tr>\n",
       "  </tbody>\n",
       "</table>\n",
       "</div>"
      ],
      "text/plain": [
       "            date decision_number  \\\n",
       "0  08 نونبر 2021         1565/03   \n",
       "1  08 نونبر 2021         1566/04   \n",
       "2  08 نونبر 2021         1567/05   \n",
       "3  08 نونبر 2021         1568/06   \n",
       "4  11 نونبر 2021         1569/07   \n",
       "\n",
       "                                               title  \\\n",
       "0  النقطة المتعلقة بتعيين ممثل الجماعة ونائبه في ...   \n",
       "1  النقطة المتعلقة بتعيين ممثل الجماعة ونائبه في ...   \n",
       "2  النقطة المتعلقة بالدراسة والمصادقة على اتفاقية...   \n",
       "3  النقطة المتعلقة بالدراسة والمصادقة على اتفاقية...   \n",
       "4  النقطة المتعلقة بتعيين أربعة مناديب للجماعة لد...   \n",
       "\n",
       "                                              voting  \\\n",
       "0  {'present_members': 22, 'expressed_votes': 21,...   \n",
       "1  {'present_members': 22, 'expressed_votes': 21,...   \n",
       "2  {'present_members': 21, 'expressed_votes': 20,...   \n",
       "3  {'present_members': 24, 'expressed_votes': 23,...   \n",
       "4  {'present_members': 27, 'expressed_votes': 22,...   \n",
       "\n",
       "                                           attendees  \\\n",
       "0  [عبد الله المنصوري, سعيد القزدار, حسن صيكوك, م...   \n",
       "1  [عبد الله المنصوري, سعيد القزدار, حسن صيكوك, م...   \n",
       "2  [عبد الله المنصوري, سعيد القزدار, حسن صيكوك, م...   \n",
       "3  [عبد الله المنصوري, سعيد القزدار, حسن صيكوك, م...   \n",
       "4  [محمد السيمو, عبد الله المنصوري, سعيد القزدار,...   \n",
       "\n",
       "                                   abstained_members refused_members  \n",
       "0                                    [أسماء البكوري]              []  \n",
       "1                                    [أسماء البكوري]              []  \n",
       "2                                    [أسماء البكوري]              []  \n",
       "3                                    [أسماء البكوري]              []  \n",
       "4  [حسن الحسناوي, امل طريبق, خالد المودن, أسماء ا...              []  "
      ]
     },
     "execution_count": 3,
     "metadata": {},
     "output_type": "execute_result"
    }
   ],
   "source": [
    "df.head()"
   ]
  },
  {
   "cell_type": "code",
   "execution_count": null,
   "id": "6a978bee",
   "metadata": {},
   "outputs": [],
   "source": [
    "df.to_excel(\"votings.xlsx\", index=False)\n",
    "df.to_csv(\"votings.csv\")"
   ]
  },
  {
   "cell_type": "code",
   "execution_count": 5,
   "id": "019aecc6",
   "metadata": {},
   "outputs": [],
   "source": [
    "files = ['attendence_all.json', 'full_data_v6.json', 'medicament_prices.json', 'part1_json.json',  'part2_json.json', 'support_list.json', 'voting_sort_2.json']"
   ]
  },
  {
   "cell_type": "code",
   "execution_count": 6,
   "id": "9fbe9f2d",
   "metadata": {},
   "outputs": [],
   "source": [
    "f = 'attendence_all.json'"
   ]
  },
  {
   "cell_type": "code",
   "execution_count": 8,
   "id": "c3676fd9",
   "metadata": {},
   "outputs": [
    {
     "data": {
      "text/plain": [
       "'attendence_all'"
      ]
     },
     "execution_count": 8,
     "metadata": {},
     "output_type": "execute_result"
    }
   ],
   "source": [
    "f.split('.')[0]"
   ]
  },
  {
   "cell_type": "code",
   "execution_count": 12,
   "id": "0db316f2",
   "metadata": {},
   "outputs": [],
   "source": [
    "for file in files :\n",
    "    df = pd.read_json(file)\n",
    "    df.to_csv(f\"{file.split('.')[0]}.csv\", index=False, encoding='utf-8-sig')\n",
    "    df.to_excel(f\"{file.split('.')[0]}.xlsx\", index=False)"
   ]
  },
  {
   "cell_type": "code",
   "execution_count": null,
   "id": "715e90b4",
   "metadata": {},
   "outputs": [],
   "source": []
  }
 ],
 "metadata": {
  "kernelspec": {
   "display_name": "venv",
   "language": "python",
   "name": "python3"
  },
  "language_info": {
   "codemirror_mode": {
    "name": "ipython",
    "version": 3
   },
   "file_extension": ".py",
   "mimetype": "text/x-python",
   "name": "python",
   "nbconvert_exporter": "python",
   "pygments_lexer": "ipython3",
   "version": "3.11.8"
  }
 },
 "nbformat": 4,
 "nbformat_minor": 5
}
